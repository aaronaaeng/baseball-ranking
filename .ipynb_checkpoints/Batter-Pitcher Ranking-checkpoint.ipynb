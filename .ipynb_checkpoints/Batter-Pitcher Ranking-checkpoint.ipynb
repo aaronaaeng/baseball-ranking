{
 "cells": [
  {
   "cell_type": "code",
   "execution_count": 24,
   "metadata": {},
   "outputs": [],
   "source": [
    "import numpy as np\n",
    "import networkx as nx\n",
    "import pandas as pd\n",
    "from collections import defaultdict\n",
    "import scipy.sparse\n",
    "import scipy.sparse.linalg"
   ]
  },
  {
   "cell_type": "code",
   "execution_count": 2,
   "metadata": {},
   "outputs": [],
   "source": [
    "dfEvents = pd.read_csv('data/events_elo.csv')"
   ]
  },
  {
   "cell_type": "code",
   "execution_count": 3,
   "metadata": {},
   "outputs": [
    {
     "data": {
      "text/html": [
       "<div>\n",
       "<style scoped>\n",
       "    .dataframe tbody tr th:only-of-type {\n",
       "        vertical-align: middle;\n",
       "    }\n",
       "\n",
       "    .dataframe tbody tr th {\n",
       "        vertical-align: top;\n",
       "    }\n",
       "\n",
       "    .dataframe thead th {\n",
       "        text-align: right;\n",
       "    }\n",
       "</style>\n",
       "<table border=\"1\" class=\"dataframe\">\n",
       "  <thead>\n",
       "    <tr style=\"text-align: right;\">\n",
       "      <th></th>\n",
       "      <th>game_dt</th>\n",
       "      <th>bat_id</th>\n",
       "      <th>pit_id</th>\n",
       "      <th>batter_score</th>\n",
       "      <th>pitcher_score</th>\n",
       "    </tr>\n",
       "  </thead>\n",
       "  <tbody>\n",
       "    <tr>\n",
       "      <th>0</th>\n",
       "      <td>20130409</td>\n",
       "      <td>crisc001</td>\n",
       "      <td>wilsc004</td>\n",
       "      <td>0.0</td>\n",
       "      <td>1.0</td>\n",
       "    </tr>\n",
       "    <tr>\n",
       "      <th>1</th>\n",
       "      <td>20130409</td>\n",
       "      <td>younc004</td>\n",
       "      <td>wilsc004</td>\n",
       "      <td>0.0</td>\n",
       "      <td>1.0</td>\n",
       "    </tr>\n",
       "    <tr>\n",
       "      <th>2</th>\n",
       "      <td>20130409</td>\n",
       "      <td>lowrj001</td>\n",
       "      <td>wilsc004</td>\n",
       "      <td>1.0</td>\n",
       "      <td>0.0</td>\n",
       "    </tr>\n",
       "    <tr>\n",
       "      <th>3</th>\n",
       "      <td>20130409</td>\n",
       "      <td>cespy001</td>\n",
       "      <td>wilsc004</td>\n",
       "      <td>1.0</td>\n",
       "      <td>0.0</td>\n",
       "    </tr>\n",
       "    <tr>\n",
       "      <th>4</th>\n",
       "      <td>20130409</td>\n",
       "      <td>norrd001</td>\n",
       "      <td>wilsc004</td>\n",
       "      <td>1.0</td>\n",
       "      <td>0.0</td>\n",
       "    </tr>\n",
       "  </tbody>\n",
       "</table>\n",
       "</div>"
      ],
      "text/plain": [
       "    game_dt    bat_id    pit_id  batter_score  pitcher_score\n",
       "0  20130409  crisc001  wilsc004           0.0            1.0\n",
       "1  20130409  younc004  wilsc004           0.0            1.0\n",
       "2  20130409  lowrj001  wilsc004           1.0            0.0\n",
       "3  20130409  cespy001  wilsc004           1.0            0.0\n",
       "4  20130409  norrd001  wilsc004           1.0            0.0"
      ]
     },
     "execution_count": 3,
     "metadata": {},
     "output_type": "execute_result"
    }
   ],
   "source": [
    "dfEvents.head()"
   ]
  },
  {
   "cell_type": "code",
   "execution_count": 13,
   "metadata": {},
   "outputs": [],
   "source": [
    "batters = set()\n",
    "pitchers = set()"
   ]
  },
  {
   "cell_type": "code",
   "execution_count": 22,
   "metadata": {},
   "outputs": [],
   "source": [
    "def get_victories(df):\n",
    "    batter_wins = defaultdict(lambda: defaultdict(int))\n",
    "    pitcher_faces = defaultdict(set)\n",
    "    \n",
    "    for _, r in df.iterrows():\n",
    "        b = r['bat_id']\n",
    "        p = r['pit_id']\n",
    "        pitcher_faces[p].add(b)\n",
    "        if r['batter_score'] == 1: # I think it can be .5 but i dont feel like dealing with that\n",
    "            batter_wins[b][p] += 1\n",
    "    \n",
    "    return batter_wins, pitcher_faces\n",
    "\n",
    "# welcome to hell\n",
    "def build_network(batter_wins, pitcher_faces):\n",
    "    G = nx.DiGraph()\n",
    "    for b, d in batter_wins.items():\n",
    "        for p, c in d.items():\n",
    "            for b2 in pitcher_faces[p]:\n",
    "                for _ in range(c):\n",
    "                    G.add_edge(b, b2)\n",
    "                \n",
    "    G.remove_edges_from(G.selfloop_edges())\n",
    "    \n",
    "    return G\n",
    "\n",
    "def get_rankings(df):\n",
    "    batter_wins, pitcher_faces = get_victories(df)\n",
    "    G = build_network(batter_wins, pitcher_faces)\n",
    "    A = nx.to_numpy_matrix(G)\n",
    "    order = G.nodes()\n",
    "    ranks = SpringRank(A)\n",
    "    ranks, order = zip(*sorted(zip(ranks, order), reverse=True))\n",
    "    \n",
    "    return list(ranks), list(order)"
   ]
  },
  {
   "cell_type": "code",
   "execution_count": 19,
   "metadata": {},
   "outputs": [],
   "source": [
    "def SpringRank(A,alpha=0.,l0=1.0,l1=1.0,solver='bicgstab',verbose=False):\n",
    "    \"\"\"\n",
    "    Main routine to calculate SpringRank by solving linear system\n",
    "    Default parameters are initialized as in the standard SpringRank model\n",
    "    \n",
    "    INPUT:\n",
    "\n",
    "        A=network adjacency matrix (can be weighted)\n",
    "        alpha: controls the impact of the regularization term\n",
    "        l0: regularization spring's rest length\n",
    "        l1: interaction springs' rest length\n",
    "        solver: linear system solver. Options: 'spsolve'(direct, slower) or 'bicgstab' (iterative, faster)\n",
    "        verbose: if True, then outputs some info about the numerical solvers\n",
    "\n",
    "    OUTPUT:\n",
    "        \n",
    "        rank: N-dim array, indeces represent the nodes' indices used in ordering the matrix A\n",
    "\n",
    "    \"\"\"\n",
    "    N = A.shape[0]\n",
    "    k_in = np.sum(A, 0)\n",
    "    k_out = np.sum(A, 1)\n",
    "    one_vector = np.ones(N)\n",
    "\n",
    "    C = A+A.T\n",
    "    D1 = np.zeros(A.shape)\n",
    "    D2 = np.zeros(A.shape)\n",
    "\n",
    "    for i in range(A.shape[0]):\n",
    "        D1[i,i] = k_out[i,0]+k_in[0,i]\n",
    "        D2[i,i] = l1*(k_out[i,0]-k_in[0,i])\n",
    "\n",
    "    if alpha != 0.: \n",
    "        if verbose:\n",
    "            print('Using alpha!=0: matrix is invertible')\n",
    "\n",
    "        B = one_vector*alpha*l0+np.dot(D2,one_vector)\n",
    "        A = alpha*np.eye(N)+D1-C\n",
    "        A = scipy.sparse.csr_matrix(np.matrix(A))\n",
    "\n",
    "    else:    \n",
    "        if verbose:\n",
    "            print('alpha=0, using faster computation: fixing a rank degree of freedom')\n",
    "        \n",
    "        C += np.repeat(A[N-1,:][None],N,axis=0)+np.repeat(A[:,N-1].T[None], N, axis=0)\n",
    "        D3 = np.zeros(A.shape)\n",
    "        for i in range(A.shape[0]):\n",
    "            D3[i,i] = l1*(k_out[N-1,0]-k_in[0,N-1])\n",
    "\n",
    "        B = np.dot(D2,one_vector) + np.dot(D3,one_vector)\n",
    "        A = scipy.sparse.csr_matrix(np.matrix(D1-C))\n",
    "    \n",
    "    if solver =='spsolve':\n",
    "        if verbose:\n",
    "            print('Using scipy.sparse.linalg.spsolve(A,B)')\n",
    "        rank = scipy.sparse.linalg.spsolve(A,B)\n",
    "    elif solver=='bicgstab': \n",
    "        if verbose:\n",
    "            print('Using scipy.sparse.linalg.bicgstab(A,B)')\n",
    "        rank = scipy.sparse.linalg.bicgstab(A,B)[0]\n",
    "    else:\n",
    "        print('Using scipy.sparse.linalg.bicgstab(A,B)')\n",
    "        rank = scipy.sparse.linalg.bicgstab(A,B)[0]\n",
    "    return np.transpose(rank)"
   ]
  },
  {
   "cell_type": "code",
   "execution_count": 25,
   "metadata": {},
   "outputs": [],
   "source": [
    "ranks, names = get_rankings(dfEvents)"
   ]
  },
  {
   "cell_type": "code",
   "execution_count": 26,
   "metadata": {},
   "outputs": [
    {
     "name": "stdout",
     "output_type": "stream",
     "text": [
      "['leagb001', 'hestj001', 'paxtj001', 'schem001', 'carsr001', 'chenb001', 'johnj009', 'axeld001', 'shiej002', 'berrq001', 'curtj002', 'porcr001', 'alvaj003', 'navae001', 'mastj001', 'dukez001', 'carsm001', 'mesam001', 'peguc001', 'mendl001', 'fryee001', 'dickr001', 'waltz001', 'butlj002', 'norrb001', 'ruppc001', 'skipk001', 'parrm001', 'centj001', 'herre001', 'navay001', 'harrl002', 'almoa001', 'ramij003', 'stasm001', 'campt001', 'pintj001', 'minez001', 'fistd001', 'choim001', 'lavar001', 'josec001', 'tovaw001', 'millc001', 'jasoj001', 'bogax001', 'bartd001', 'flynb001', 'calhk001', 'dendm001', 'kottg001', 'grosr001', 'bernd001', 'greet004', 'duncs001', 'hoesl001', 'mcdod002', 'wilsj003', 'clevs001', 'medit001', 'derom001', 'youkk001', 'norrd001', 'giamj001', 'gutif001', 'boesb001', 'teixm001', 'montj003', 'fulds001', 'berkl001', 'sotog001', 'profj001', 'boscj001', 'rodra001', 'bourp001', 'morsm001', 'pears001', 'plout001', 'chisl001', 'reyej001', 'tekob001', 'dysoj001', 'tuiam001', 'lawrb002', 'wallb001', 'bakej001', 'robeb003', 'gillc002', 'guthj001', 'carre001', 'gillc001', 'rodrs002', 'rabur001', 'castj006', 'tanak001', 'tejam001', 'halts002', 'gomey001', 'villj001', 'avilm001', 'lougd001', 'hernc005', 'iannc001', 'hosme001', 'goinr001', 'corpc001', 'elmoj001', 'mousm001', 'romia001', 'schoj001', 'pillk001', 'maxwj002', 'sanct001', 'avila001', 'santr002', 'herrc001', 'gentc001', 'murpd005', 'hafnt001', 'davir003', 'flahr001', 'sierm001', 'crowt001', 'wised001', 'konep001', 'cainl001', 'parmc001', 'langr002', 'blanh001', 'penab002', 'ryanb002', 'bloow001', 'peres002', 'jacka001', 'navad002', 'penac001', 'moreb001', 'arcio001', 'phegj001', 'rasmc001', 'greiz001', 'roart001', 'hicka001', 'scotl001', 'andre001', 'nunee002', 'iztum001', 'coghc001', 'butlb003', 'gimeh001', 'jimel002', 'marij002', 'millb002', 'cabrm001', 'jeted001', 'smoaj001', 'gorda001', 'infao001', 'peraj001', 'kinsi001', 'swisn001', 'joycm001', 'martl004', 'davim005', 'reynm001', 'frein001', 'mclon001', 'genns001', 'gordd002', 'rober002', 'semim001', 'garca003', 'cabrm002', 'cruzn002', 'myerw001', 'sogae001', 'jennd002', 'suzui001', 'hardj003', 'gosea001', 'gomej001', 'murpd004', 'dirka001', 'kraum001', 'hannj001', 'willj004', 'santc002', 'kipnj001', 'valed001', 'cabra002', 'morem001', 'ackld001', 'sappd001', 'gardb001', 'casia001', 'ramia003', 'zunim001', 'thomc002', 'borbj001', 'cartc002', 'deaza001', 'belta001', 'vogts001', 'stewc001', 'shucj001', 'napom001', 'molij001', 'congh001', 'dunna001', 'iglej001', 'huntt001', 'dozib001', 'lobaj001', 'mcdoj004', 'grany001', 'bay-j001', 'kelld001', 'andir001', 'browa003', 'granc001', 'mauej001', 'pujoa001', 'hellj001', 'encae001', 'escoa003', 'overl001', 'saunm001', 'calla001', 'wellv001', 'yelic001', 'ellsj001', 'dankj002', 'fielp001', 'wietm001', 'piera001', 'nix-j001', 'almoz001', 'linda001', 'doumr001', 'hamij003', 'markn001', 'ludwr001', 'gimec001', 'giavj001', 'escoy001', 'lonej001', 'chirr001', 'drews001', 'reddj001', 'machm001', 'franb001', 'cowgc001', 'getzc001', 'gonza005', 'zobrb001', 'tholj001', 'river003', 'franj004', 'riosa002', 'davic003', 'stubd001', 'kendh001', 'bonie001', 'mossb001', 'johne002', 'dickc001', 'seagk001', 'victs001', 'satij001', 'kawam001', 'frann001', 'saltj001', 'chave002', 'penar002', 'florw001', 'ankir001', 'altuj001', 'cirip001', 'younc004', 'lowrj001', 'alony001', 'pedrd001', 'culbc001', 'ortid001', 'carpm001', 'morrl001', 'sante001', 'crisc001', 'bradj001', 'perej002', 'escoe001', 'adrie001', 'hairs001', 'troum001', 'johnk003', 'bogub001', 'brigr001', 'green001', 'webbr001', 'canor001', 'gindc001', 'trumm001', 'hawpb001', 'carrj001', 'dietd001', 'donaj001', 'beckt001', 'ramia001', 'owinc001', 'jonea003', 'robis001', 'sanch002', 'valac001', 'vanss001', 'bourm001', 'baxtm001', 'forsl001', 'dobbg001', 'navad001', 'blacc001', 'bakej002', 'reimn001', 'bautj002', 'dickc002', 'cabre001', 'rosaa001', 'quinh001', 'lakej001', 'quenc001', 'aybae001', 'blank002', 'martv001', 'ransc001', 'pastt001', 'schaj002', 'nieuk001', 'gonzm002', 'nievw001', 'holtb002', 'hamib001', 'mornj001', 'gonzc001', 'solad001', 'ingeb001', 'noonn001', 'robid002', 'wellc001', 'stanm004', 'mccab002', 'lairb001', 'eatoa002', 'romia002', 'schin001', 'sweer001', 'hilla001', 'ibanr001', 'chave001', 'rossc001', 'branm003', 'vicid001', 'parej002', 'barnb002', 'nelsc001', 'lucae001', 'bailh001', 'braur002', 'dejed001', 'valdj002', 'guzmj005', 'bianj001', 'kubej002', 'mckem001', 'montm001', 'ariaj001', 'lutzd001', 'domim001', 'keppj001', 'cespy001', 'ozunm001', 'goset001', 'longe001', 'morak001', 'smits002', 'herrj002', 'harrb001', 'woodt004', 'pagaa001', 'pachj001', 'amara001', 'dudal001', 'snidt001', 'reveb001', 'davii001', 'castw002', 'ramow001', 'fowld001', 'pereh001', 'paulx001', 'cuddm001', 'rossd001', 'pierj002', 'torra001', 'kotsm001', 'rutlj001', 'torry001', 'martj006', 'middw001', 'rosaw001', 'adamm002', 'scutm001', 'galvf001', 'flowt001', 'davik003', 'garcl004', 'ruf-d001', 'marts002', 'darnt001', 'mercj002', 'lutzz001', 'shopk001', 'denoc001', 'nealt001', 'puntn001', 'lairg001', 'maldm001', 'ruizc001', 'ramih003', 'youne003', 'matsd001', 'sancg001', 'quino001', 'blang001', 'tabaj002', 'teagt001', 'terdj001', 'harpb003', 'kempm001', 'descd001', 'urruh001', 'valbl001', 'turnj001', 'tejar001', 'mccua001', 'renda001', 'freef001', 'heisc001', 'snydb003', 'venaw001', 'yound003', 'wertj001', 'holab001', 'bernr001', 'polap001', 'pennc001', 'greeg002', 'presa001', 'marta005', 'florp001', 'ruggj001', 'tulot001', 'hundn001', 'abret001', 'heywj001', 'vottj001', 'tracc001', 'choos001', 'craia001', 'murpd006', 'aschc001', 'hecha001', 'arenj001', 'cruzt002', 'branr002', 'joneg002', 'utlec001', 'simma001', 'parrg001', 'smitb005', 'weekr001', 'redmt002', 'wrigd002', 'kiesr001', 'howar001', 'walkn001', 'nix-l001', 'crawc002', 'hernr002', 'lemad001', 'hayeb001', 'gyorj001', 'frank001', 'pillb001', 'ceder002', 'johnr008', 'moliy001', 'beckg001', 'ellia001', 'cruzl001', 'rizza001', 'pench001', 'crawb001', 'delgr001', 'casts001', 'headc001', 'fedet001', 'wheer001', 'schus001', 'gregd001', 'uribj002', 'frazt001', 'desmi001', 'lucrj001', 'uptob001', 'martr004', 'goldp001', 'sandp001', 'krate001', 'hairj002', 'gatte001', 'pradm001', 'olivm001', 'cozaz001', 'keara001', 'moort002', 'franj005', 'freed001', 'lagaj001', 'gomec002', 'janip001', 'chacj001', 'rollj001', 'adduj002', 'suzuk001', 'uptoj001', 'heltt001', 'hollm001', 'polla001', 'spand001', 'seguj002', 'johnc003', 'zimmr001', 'soria001', 'brucj001', 'carpm002', 'lombs002', 'betay001', 'mesod001', 'arenn001', 'laroa001', 'buckj001', 'mahoj001', 'puigy001', 'barmc001', 'aokin001', 'mastd002', 'byrdm001', 'uggld001', 'poseb001', 'maybj001', 'chatt001', 'sellj002', 'ellim001', 'beltb001', 'philb001', 'adamd001', 'lamba001', 'gonza003', 'iztuc001', 'beltc001', 'colac001', 'alvap001', 'browd004', 'jay-j001', 'espid001', 'barnd001', 'mcguc001', 'peguf001', 'hanir001', 'valdr002', 'mcdoj003', 'ryu-h001', 'younm003', 'ethia001', 'kozmp001', 'belte002', 'schal001', 'casha001', 'niesj001', 'mathj001', 'quirg001', 'mahop002', 'maybc001', 'westj001', 'harrj002', 'hamec001', 'triuc001', 'recka001', 'estrm001', 'hared001', 'lannj001', 'cervf001', 'parra001', 'hinse001', 'kobej001', 'martf002', 'pridj001', 'kersc001', 'colvt001', 'holld003', 'snydc002', 'beckj002', 'bumgm001', 'marsl001', 'consj001', 'tehej001', 'bussn001', 'hillk002', 'ramiw001', 'solaj002', 'gee-d001', 'wongk001', 'wiggt001', 'cloyt001', 'gally001', 'gonza002', 'ishit001', 'lohsk001', 'lillb001', 'corbp001', 'watkl001', 'kendk001', 'marqj001', 'pie-f001', 'medlk001', 'deckj001', 'fernj003', 'rosst001', 'haraa001', 'lee-c003', 'lynnl001', 'leblw001', 'montl002', 'stras001', 'orr-p001', 'lirif001', 'pettj001', 'chama002', 'petes002', 'fuenr001', 'prinj001', 'zimmj003', 'nolar001', 'taylm001', 'alvah001', 'franj003', 'leakm001', 'mortc002', 'waina001', 'kenni001', 'nicaj001', 'cuetj001', 'coleg001', 'sucrj001', 'manes001', 'wheez001', 'cingt001', 'strad003', 'hudst001', 'felds001', 'johnr009', 'gonzg003', 'peree003', 'castn001', 'diazm003', 'kazms001', 'samaj001', 'peraw001', 'milew001', 'fielt001', 'stule002', 'hernf002', 'villc001', 'richc002', 'gossp001', 'minom001', 'monej001', 'harvm001', 'cainm001', 'rodrh003', 'petiy001', 'marcs001', 'latom001', 'garzm001', 'jacke001', 'lockj001', 'sizes001', 'linct001', 'slowk001', 'clarc001', 'martm003', 'kellj001', 'moora001', 'casta003', 'blanj001', 'detwr001', 'milot001', 'eovan001', 'morrb002', 'lallb001', 'burna001', 'mccab001', 'beacb001', 'volqe001', 'bourj001', 'erlir001', 'dewib001', 'sanaa001', 'browj006', 'wachm001', 'marrc001', 'mchuc001', 'wilsc004', 'handd001', 'grifa002', 'browc003', 'murpj001', 'oswar001', 'peteb002', 'torrc001', 'jimeu001', 'jordt001', 'garlj001', 'couss001', 'pagnm001', 'kickm001', 'gaudc001', 'andeb005', 'turnj002', 'osuls001', 'skagt001', 'cunnt001', 'susds001', 'mills001', 'simoa001', 'cahit001', 'arrob001', 'voger001', 'falui001', 'rodrw002', 'delaj001', 'koeht001', 'collj001', 'weekj001', 'lyont001', 'sanca004', 'arrij001', 'lidda001', 'fifes001', 'rusic001', 'burgh001', 'hefnj001', 'buted001', 'diams001', 'zitob001', 'klubc001', 'gomej002', 'kotcc001', 'gorzt001', 'capuc001', 'hallr001', 'mazzv001', 'peavj001', 'robic002', 'stamc001', 'reyng001', 'figaa001', 'sancj002', 'cumpb001', 'gastj001', 'ottaa001', 'ohler001', 'gonzm004', 'soton001', 'blevj001', 'santo001', 'bantb001', 'johnd004', 'bauet001', 'lerus001', 'laroa002', 'perea002', 'wortd001', 'phelc001', 'brotr001', 'savej001', 'betew001', 'nelsj004', 'diazj004', 'gausk001', 'dedus001', 'raleb001', 'keucd001', 'karnn001', 'mainj001', 'floyg001', 'badeb001', 'tepen001', 'quinj001', 'belim001', 'jansk001', 'withc001', 'rosas001', 'moscg001', 'iwakh001', 'mortc003', 'bethc001', 'willj003', 'pomed001', 'lestj001', 'salad001', 'carpd001', 'stutm001', 'peacb001', 'outmj001', 'cletm001', 'wilsj004', 'leroc001', 'belir001', 'corpm001', 'sants001', 'dysos001', 'handb001', 'johnk004', 'pimes001', 'domij002', 'buehm001', 'jackr005', 'mejij001', 'velag002', 'dankj001', 'mujie001', 'corrk001', 'archc001', 'carmf001', 'workb001', 'parnb001', 'rzepm001', 'lopew001', 'loe-k001', 'sanca005', 'hammj002', 'tillc001', 'leons001', 'chapa001', 'lillt001', 'bondj001', 'irwip001', 'wrigw001', 'rogee002', 'bakes002', 'varva001', 'buchc001', 'ziegb001', 'gonzm003', 'pattt001', 'ramie004', 'roe-c001', 'martc006', 'ortir002', 'lincb001', 'pheld001', 'worlv001', 'roenj001', 'hellj002', 'avill001', 'billc001', 'scahr001', 'santh001', 'mansj001', 'staut001', 'garcf002', 'salaf001', 'marmc001', 'lylej001', 'escae001', 'garcl005', 'cisnj001', 'marte002', 'delae002', 'sabac001', 'haled001', 'machj002', 'perem004', 'kontg001', 'kuroh001', 'petta001', 'langm002', 'ogana001', 'weavj003', 'mcalz001', 'saunj001', 'chenw001', 'daviw001', 'bassa001', 'spruz001', 'partc001', 'pricd001', 'swara001', 'pelfm001', 'coloa001', 'grimj002', 'odayd001', 'magim001', 'howej003', 'moorm003', 'ramij002', 'colob001', 'laffa001', 'hughj001', 'webet001', 'reidr001', 'jenkc001', 'guerm001', 'hughp001', 'doubf001', 'villp001', 'wooda002', 'thort001', 'bedae001', 'fierm001', 'roset001', 'holmd002', 'bettc001', 'garcj004', 'raucj001', 'cobba001', 'verlj001', 'novai001', 'surke001', 'watst001', 'lackj001', 'burkg001', 'chavj001', 'siegk001', 'germg001', 'moraf001', 'darvy001', 'boxbb001', 'wootr001', 'thayd001']\n"
     ]
    }
   ],
   "source": [
    "print(names)"
   ]
  },
  {
   "cell_type": "code",
   "execution_count": null,
   "metadata": {},
   "outputs": [],
   "source": []
  }
 ],
 "metadata": {
  "kernelspec": {
   "display_name": "Python 3",
   "language": "python",
   "name": "python3"
  },
  "language_info": {
   "codemirror_mode": {
    "name": "ipython",
    "version": 3
   },
   "file_extension": ".py",
   "mimetype": "text/x-python",
   "name": "python",
   "nbconvert_exporter": "python",
   "pygments_lexer": "ipython3",
   "version": "3.6.8"
  }
 },
 "nbformat": 4,
 "nbformat_minor": 2
}
