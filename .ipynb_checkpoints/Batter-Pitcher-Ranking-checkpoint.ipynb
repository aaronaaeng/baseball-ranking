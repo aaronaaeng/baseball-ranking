{
 "cells": [
  {
   "cell_type": "code",
   "execution_count": 1,
   "metadata": {},
   "outputs": [],
   "source": [
    "import numpy as np\n",
    "import networkx as nx\n",
    "import pandas as pd\n",
    "from collections import defaultdict\n",
    "import scipy.sparse\n",
    "import scipy.sparse.linalg"
   ]
  },
  {
   "cell_type": "code",
   "execution_count": 2,
   "metadata": {},
   "outputs": [],
   "source": [
    "dfEvents = pd.read_csv('data/events_elo.csv')"
   ]
  },
  {
   "cell_type": "code",
   "execution_count": 81,
   "metadata": {},
   "outputs": [],
   "source": [
    "dfBatters = pd.read_csv('data/batters.csv')\n",
    "dfPitchers = pd.read_csv('data/pitchers.csv')"
   ]
  },
  {
   "cell_type": "code",
   "execution_count": null,
   "metadata": {},
   "outputs": [],
   "source": []
  },
  {
   "cell_type": "code",
   "execution_count": 32,
   "metadata": {},
   "outputs": [
    {
     "data": {
      "text/html": [
       "<div>\n",
       "<style scoped>\n",
       "    .dataframe tbody tr th:only-of-type {\n",
       "        vertical-align: middle;\n",
       "    }\n",
       "\n",
       "    .dataframe tbody tr th {\n",
       "        vertical-align: top;\n",
       "    }\n",
       "\n",
       "    .dataframe thead th {\n",
       "        text-align: right;\n",
       "    }\n",
       "</style>\n",
       "<table border=\"1\" class=\"dataframe\">\n",
       "  <thead>\n",
       "    <tr style=\"text-align: right;\">\n",
       "      <th></th>\n",
       "      <th>player_id</th>\n",
       "      <th>teamID</th>\n",
       "      <th>nameFirst</th>\n",
       "      <th>nameLast</th>\n",
       "      <th>score</th>\n",
       "    </tr>\n",
       "  </thead>\n",
       "  <tbody>\n",
       "    <tr>\n",
       "      <th>0</th>\n",
       "      <td>cabrm001</td>\n",
       "      <td>DET</td>\n",
       "      <td>Miguel</td>\n",
       "      <td>Cabrera</td>\n",
       "      <td>377.68</td>\n",
       "    </tr>\n",
       "    <tr>\n",
       "      <th>1</th>\n",
       "      <td>goldp001</td>\n",
       "      <td>ARI</td>\n",
       "      <td>Paul</td>\n",
       "      <td>Goldschmidt</td>\n",
       "      <td>349.07</td>\n",
       "    </tr>\n",
       "    <tr>\n",
       "      <th>2</th>\n",
       "      <td>troum001</td>\n",
       "      <td>LAA</td>\n",
       "      <td>Mike</td>\n",
       "      <td>Trout</td>\n",
       "      <td>347.80</td>\n",
       "    </tr>\n",
       "    <tr>\n",
       "      <th>3</th>\n",
       "      <td>canor001</td>\n",
       "      <td>NYA</td>\n",
       "      <td>Robinson</td>\n",
       "      <td>Cano</td>\n",
       "      <td>323.92</td>\n",
       "    </tr>\n",
       "    <tr>\n",
       "      <th>4</th>\n",
       "      <td>vottj001</td>\n",
       "      <td>CIN</td>\n",
       "      <td>Joey</td>\n",
       "      <td>Votto</td>\n",
       "      <td>317.49</td>\n",
       "    </tr>\n",
       "  </tbody>\n",
       "</table>\n",
       "</div>"
      ],
      "text/plain": [
       "  player_id teamID nameFirst     nameLast   score\n",
       "0  cabrm001    DET    Miguel      Cabrera  377.68\n",
       "1  goldp001    ARI      Paul  Goldschmidt  349.07\n",
       "2  troum001    LAA      Mike        Trout  347.80\n",
       "3  canor001    NYA  Robinson         Cano  323.92\n",
       "4  vottj001    CIN      Joey        Votto  317.49"
      ]
     },
     "execution_count": 32,
     "metadata": {},
     "output_type": "execute_result"
    }
   ],
   "source": [
    "dfBatters.head()"
   ]
  },
  {
   "cell_type": "code",
   "execution_count": 3,
   "metadata": {},
   "outputs": [
    {
     "data": {
      "text/html": [
       "<div>\n",
       "<style scoped>\n",
       "    .dataframe tbody tr th:only-of-type {\n",
       "        vertical-align: middle;\n",
       "    }\n",
       "\n",
       "    .dataframe tbody tr th {\n",
       "        vertical-align: top;\n",
       "    }\n",
       "\n",
       "    .dataframe thead th {\n",
       "        text-align: right;\n",
       "    }\n",
       "</style>\n",
       "<table border=\"1\" class=\"dataframe\">\n",
       "  <thead>\n",
       "    <tr style=\"text-align: right;\">\n",
       "      <th></th>\n",
       "      <th>game_dt</th>\n",
       "      <th>bat_id</th>\n",
       "      <th>pit_id</th>\n",
       "      <th>batter_score</th>\n",
       "      <th>pitcher_score</th>\n",
       "    </tr>\n",
       "  </thead>\n",
       "  <tbody>\n",
       "    <tr>\n",
       "      <th>0</th>\n",
       "      <td>20130409</td>\n",
       "      <td>crisc001</td>\n",
       "      <td>wilsc004</td>\n",
       "      <td>0.0</td>\n",
       "      <td>1.0</td>\n",
       "    </tr>\n",
       "    <tr>\n",
       "      <th>1</th>\n",
       "      <td>20130409</td>\n",
       "      <td>younc004</td>\n",
       "      <td>wilsc004</td>\n",
       "      <td>0.0</td>\n",
       "      <td>1.0</td>\n",
       "    </tr>\n",
       "    <tr>\n",
       "      <th>2</th>\n",
       "      <td>20130409</td>\n",
       "      <td>lowrj001</td>\n",
       "      <td>wilsc004</td>\n",
       "      <td>1.0</td>\n",
       "      <td>0.0</td>\n",
       "    </tr>\n",
       "    <tr>\n",
       "      <th>3</th>\n",
       "      <td>20130409</td>\n",
       "      <td>cespy001</td>\n",
       "      <td>wilsc004</td>\n",
       "      <td>1.0</td>\n",
       "      <td>0.0</td>\n",
       "    </tr>\n",
       "    <tr>\n",
       "      <th>4</th>\n",
       "      <td>20130409</td>\n",
       "      <td>norrd001</td>\n",
       "      <td>wilsc004</td>\n",
       "      <td>1.0</td>\n",
       "      <td>0.0</td>\n",
       "    </tr>\n",
       "  </tbody>\n",
       "</table>\n",
       "</div>"
      ],
      "text/plain": [
       "    game_dt    bat_id    pit_id  batter_score  pitcher_score\n",
       "0  20130409  crisc001  wilsc004           0.0            1.0\n",
       "1  20130409  younc004  wilsc004           0.0            1.0\n",
       "2  20130409  lowrj001  wilsc004           1.0            0.0\n",
       "3  20130409  cespy001  wilsc004           1.0            0.0\n",
       "4  20130409  norrd001  wilsc004           1.0            0.0"
      ]
     },
     "execution_count": 3,
     "metadata": {},
     "output_type": "execute_result"
    }
   ],
   "source": [
    "dfEvents.head()"
   ]
  },
  {
   "cell_type": "code",
   "execution_count": 36,
   "metadata": {},
   "outputs": [],
   "source": [
    "def get_victories(df):\n",
    "    batter_wins = defaultdict(lambda: defaultdict(int))\n",
    "    pitcher_faces = defaultdict(set)\n",
    "    \n",
    "    for _, r in df.iterrows():\n",
    "        b = r['bat_id']\n",
    "        p = r['pit_id']\n",
    "        pitcher_faces[p].add(b)\n",
    "        if r['batter_score']: # I think it can be .5 but i dont feel like dealing with that\n",
    "            batter_wins[b][p] += 1\n",
    "    \n",
    "    return batter_wins, pitcher_faces\n",
    "\n",
    "# welcome to hell\n",
    "def build_network(batter_wins, pitcher_faces):\n",
    "    G = nx.MultiDiGraph()\n",
    "    for b, d in batter_wins.items():\n",
    "        for p, c in d.items():\n",
    "            for b2 in pitcher_faces[p]:\n",
    "                for _ in range(c):\n",
    "                    if b != b2:\n",
    "                        G.add_edge(b, b2)\n",
    "                \n",
    "    return G\n",
    "\n",
    "def get_rankings(df):\n",
    "    batter_wins, pitcher_faces = get_victories(df)\n",
    "    G = build_network(batter_wins, pitcher_faces)\n",
    "    A = nx.to_numpy_matrix(G)\n",
    "    ranks = SpringRank(A)\n",
    "    ids = G.nodes()\n",
    "    ranks, ids = zip(*sorted(zip(ranks, ids), reverse=True))\n",
    "    \n",
    "    return list(ranks), list(ids)"
   ]
  },
  {
   "cell_type": "code",
   "execution_count": 37,
   "metadata": {},
   "outputs": [],
   "source": [
    "ranks, ids = get_rankings(dfEvents)"
   ]
  },
  {
   "cell_type": "code",
   "execution_count": 84,
   "metadata": {},
   "outputs": [
    {
     "name": "stdout",
     "output_type": "stream",
     "text": [
      "2    Mike\n",
      "Name: nameFirst, dtype: object 2    Trout\n",
      "Name: nameLast, dtype: object\n"
     ]
    }
   ],
   "source": [
    "names = []\n",
    "for player_id in ids[3:]:\n",
    "    dfPlayers = dfBatters.copy()\n",
    "    dfPlayers.append(dfPitchers)\n",
    "    r = dfPlayers.loc[dfPlayers['player_id'] == player_id]\n",
    "    l = r['nameFirst'].tolist()\n",
    "    if l:\n",
    "#         print(player_id)\n",
    "#         print(r)\n",
    "        print(str(r['nameFirst']) + ' ' + str(r['nameLast']))\n",
    "    break\n",
    "    names.append(str(r['nameFirst']) + ' ' + str(r['nameLast']))"
   ]
  },
  {
   "cell_type": "code",
   "execution_count": 53,
   "metadata": {},
   "outputs": [
    {
     "name": "stdout",
     "output_type": "stream",
     "text": [
      "[]\n"
     ]
    }
   ],
   "source": [
    "print(names)"
   ]
  },
  {
   "cell_type": "code",
   "execution_count": null,
   "metadata": {},
   "outputs": [],
   "source": []
  },
  {
   "cell_type": "code",
   "execution_count": 16,
   "metadata": {},
   "outputs": [],
   "source": [
    "def SpringRank(A,alpha=0.,l0=1.0,l1=1.0,solver='bicgstab',verbose=False):\n",
    "    \"\"\"\n",
    "    Main routine to calculate SpringRank by solving linear system\n",
    "    Default parameters are initialized as in the standard SpringRank model\n",
    "    \n",
    "    INPUT:\n",
    "\n",
    "        A=network adjacency matrix (can be weighted)\n",
    "        alpha: controls the impact of the regularization term\n",
    "        l0: regularization spring's rest length\n",
    "        l1: interaction springs' rest length\n",
    "        solver: linear system solver. Options: 'spsolve'(direct, slower) or 'bicgstab' (iterative, faster)\n",
    "        verbose: if True, then outputs some info about the numerical solvers\n",
    "\n",
    "    OUTPUT:\n",
    "        \n",
    "        rank: N-dim array, indeces represent the nodes' indices used in ordering the matrix A\n",
    "\n",
    "    \"\"\"\n",
    "    N = A.shape[0]\n",
    "    k_in = np.sum(A, 0)\n",
    "    k_out = np.sum(A, 1)\n",
    "    one_vector = np.ones(N)\n",
    "\n",
    "    C = A+A.T\n",
    "    D1 = np.zeros(A.shape)\n",
    "    D2 = np.zeros(A.shape)\n",
    "\n",
    "    for i in range(A.shape[0]):\n",
    "        D1[i,i] = k_out[i,0]+k_in[0,i]\n",
    "        D2[i,i] = l1*(k_out[i,0]-k_in[0,i])\n",
    "\n",
    "    if alpha != 0.: \n",
    "        if verbose:\n",
    "            print('Using alpha!=0: matrix is invertible')\n",
    "\n",
    "        B = one_vector*alpha*l0+np.dot(D2,one_vector)\n",
    "        A = alpha*np.eye(N)+D1-C\n",
    "        A = scipy.sparse.csr_matrix(np.matrix(A))\n",
    "\n",
    "    else:    \n",
    "        if verbose:\n",
    "            print('alpha=0, using faster computation: fixing a rank degree of freedom')\n",
    "        \n",
    "        C += np.repeat(A[N-1,:][None],N,axis=0)+np.repeat(A[:,N-1].T[None], N, axis=0)\n",
    "        D3 = np.zeros(A.shape)\n",
    "        for i in range(A.shape[0]):\n",
    "            D3[i,i] = l1*(k_out[N-1,0]-k_in[0,N-1])\n",
    "\n",
    "        B = np.dot(D2,one_vector) + np.dot(D3,one_vector)\n",
    "        A = scipy.sparse.csr_matrix(np.matrix(D1-C))\n",
    "    \n",
    "    if solver =='spsolve':\n",
    "        if verbose:\n",
    "            print('Using scipy.sparse.linalg.spsolve(A,B)')\n",
    "        rank = scipy.sparse.linalg.spsolve(A,B)\n",
    "    elif solver=='bicgstab': \n",
    "        if verbose:\n",
    "            print('Using scipy.sparse.linalg.bicgstab(A,B)')\n",
    "        rank = scipy.sparse.linalg.bicgstab(A,B)[0]\n",
    "    else:\n",
    "        print('Using scipy.sparse.linalg.bicgstab(A,B)')\n",
    "        rank = scipy.sparse.linalg.bicgstab(A,B)[0]\n",
    "    return np.transpose(rank)"
   ]
  }
 ],
 "metadata": {
  "kernelspec": {
   "display_name": "Python 3",
   "language": "python",
   "name": "python3"
  },
  "language_info": {
   "codemirror_mode": {
    "name": "ipython",
    "version": 3
   },
   "file_extension": ".py",
   "mimetype": "text/x-python",
   "name": "python",
   "nbconvert_exporter": "python",
   "pygments_lexer": "ipython3",
   "version": "3.6.8"
  }
 },
 "nbformat": 4,
 "nbformat_minor": 2
}
